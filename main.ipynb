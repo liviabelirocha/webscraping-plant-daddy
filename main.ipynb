{
  "nbformat": 4,
  "nbformat_minor": 0,
  "metadata": {
    "colab": {
      "name": "Webscraping.ipynb",
      "provenance": [],
      "collapsed_sections": []
    },
    "kernelspec": {
      "name": "python3",
      "display_name": "Python 3"
    },
    "language_info": {
      "name": "python"
    }
  },
  "cells": [
    {
      "cell_type": "code",
      "metadata": {
        "id": "8N1eMMLq6HXP"
      },
      "source": [
        "!pip install selenium\n",
        "!pip install python-slugify\n",
        "!apt-get update\n",
        "!apt install chromium-chromedriver\n"
      ],
      "execution_count": null,
      "outputs": []
    },
    {
      "cell_type": "code",
      "metadata": {
        "id": "vaeN2nr_7UTE"
      },
      "source": [
        "from selenium import webdriver\n",
        "from slugify import slugify\n",
        "import pandas as pd"
      ],
      "execution_count": 3,
      "outputs": []
    },
    {
      "cell_type": "code",
      "metadata": {
        "id": "T6Q8le--7xvz"
      },
      "source": [
        "chrome_options = webdriver.ChromeOptions()\n",
        "chrome_options.add_argument('--headless')\n",
        "chrome_options.add_argument('--no-sandbox')\n",
        "chrome_options.add_argument('--disable-dev-shm-usage')\n",
        "wd = webdriver.Chrome('chromedriver', chrome_options=chrome_options)"
      ],
      "execution_count": null,
      "outputs": []
    },
    {
      "cell_type": "code",
      "metadata": {
        "id": "WGvUoXBw8Jjf"
      },
      "source": [
        "wd.get(\"https://www.thespruce.com/plants-a-to-z-5116344\")\n",
        "cards = wd.find_elements_by_class_name('alphabetical-card')"
      ],
      "execution_count": 5,
      "outputs": []
    },
    {
      "cell_type": "code",
      "metadata": {
        "id": "vmwGfElCBxOK"
      },
      "source": [
        "links = []\n",
        "for card in cards:\n",
        "  links.append(card.get_attribute('href'))\n",
        "del links[:8]"
      ],
      "execution_count": 6,
      "outputs": []
    },
    {
      "cell_type": "code",
      "metadata": {
        "id": "YZzSbMqoNpD0"
      },
      "source": [
        "def split_list(array, elem, type = 1):\n",
        "  for idx, el in enumerate(array):\n",
        "    if el == elem:\n",
        "      return array[:idx] if type == 1 else array[idx+1:]"
      ],
      "execution_count": 7,
      "outputs": []
    },
    {
      "cell_type": "code",
      "metadata": {
        "id": "bAmfi1KXTkVa"
      },
      "source": [
        "def convert_dict(array):  \n",
        "    init = iter(array)\n",
        "    res_dct = dict(zip(init, init))  \n",
        "    return res_dct"
      ],
      "execution_count": 20,
      "outputs": []
    },
    {
      "cell_type": "code",
      "metadata": {
        "id": "7gxyIXVq9sbs"
      },
      "source": [
        "def inspect_plant(link):\n",
        "  wd.get(link)\n",
        "  link = wd.find_element_by_xpath('/html/body/main/article/div[1]/div/div[2]/div[2]')\n",
        "\n",
        "  page_list = link.text.split('\\n')\n",
        "  if 'FEATURED VIDEO' in page_list: page_list.remove('FEATURED VIDEO')\n",
        "\n",
        "  table = link.find_element_by_tag_name('table')\n",
        "\n",
        "  # Get description\n",
        "  description = split_list(page_list, table.text.split('\\n')[0])\n",
        "  description = ''.join(description)\n",
        "\n",
        "  # Get table\n",
        "  table = table.find_elements_by_tag_name('td')\n",
        "  dict_table = []\n",
        "  for (idx, column) in enumerate(table):\n",
        "    text = column.text\n",
        "    if idx % 2 == 0:\n",
        "      text = slugify(text)\n",
        "    dict_table.append(text)\n",
        "  dict_table = convert_dict(dict_table)\n",
        "\n",
        "  return {'description': description, **dict_table}"
      ],
      "execution_count": 23,
      "outputs": []
    },
    {
      "cell_type": "code",
      "metadata": {
        "id": "EFeCA5OsUyxy"
      },
      "source": [
        "res = []\n",
        "for link in links[:3]:\n",
        "  res.append(inspect_plant(link))\n",
        "\n",
        "df = pd.DataFrame(res)\n",
        "df"
      ],
      "execution_count": 26,
      "outputs": []
    }
  ]
}