{
  "nbformat": 4,
  "nbformat_minor": 0,
  "metadata": {
    "colab": {
      "name": "Webscraping.ipynb",
      "provenance": [],
      "collapsed_sections": [],
      "authorship_tag": "ABX9TyP3oqy81qnv7Fu17rNQzple",
      "include_colab_link": true
    },
    "kernelspec": {
      "name": "python3",
      "display_name": "Python 3"
    },
    "language_info": {
      "name": "python"
    }
  },
  "cells": [
    {
      "cell_type": "markdown",
      "metadata": {
        "id": "view-in-github",
        "colab_type": "text"
      },
      "source": [
        "<a href=\"https://colab.research.google.com/github/liviabelirocha/webscraping-studies/blob/main/main.ipynb\" target=\"_parent\"><img src=\"https://colab.research.google.com/assets/colab-badge.svg\" alt=\"Open In Colab\"/></a>"
      ]
    },
    {
      "cell_type": "code",
      "metadata": {
        "id": "8N1eMMLq6HXP"
      },
      "source": [
        "!pip install selenium\n",
        "!pip install python-slugify\n",
        "!apt-get update\n",
        "!apt install chromium-chromedriver"
      ],
      "execution_count": null,
      "outputs": []
    },
    {
      "cell_type": "code",
      "metadata": {
        "id": "vaeN2nr_7UTE"
      },
      "source": [
        "from selenium import webdriver\n",
        "from slugify import slugify\n",
        "import pandas as pd"
      ],
      "execution_count": 2,
      "outputs": []
    },
    {
      "cell_type": "code",
      "metadata": {
        "id": "T6Q8le--7xvz"
      },
      "source": [
        "chrome_options = webdriver.ChromeOptions()\n",
        "chrome_options.add_argument('--headless')\n",
        "chrome_options.add_argument('--no-sandbox')\n",
        "chrome_options.add_argument('--disable-dev-shm-usage')\n",
        "wd = webdriver.Chrome('chromedriver', chrome_options=chrome_options)"
      ],
      "execution_count": null,
      "outputs": []
    },
    {
      "cell_type": "code",
      "metadata": {
        "id": "WGvUoXBw8Jjf"
      },
      "source": [
        "wd.get(\"https://www.thespruce.com/plants-a-to-z-5116344\")\n",
        "cards = wd.find_elements_by_class_name('alphabetical-card')"
      ],
      "execution_count": 4,
      "outputs": []
    },
    {
      "cell_type": "code",
      "metadata": {
        "id": "vmwGfElCBxOK"
      },
      "source": [
        "links = []\n",
        "for card in cards:\n",
        "  links.append(card.get_attribute('href'))\n",
        "del links[:8]"
      ],
      "execution_count": 7,
      "outputs": []
    },
    {
      "cell_type": "code",
      "metadata": {
        "id": "YZzSbMqoNpD0"
      },
      "source": [
        "def split_list(array, elem, type = 1):\n",
        "  for idx, el in enumerate(array):\n",
        "    if el == elem:\n",
        "      return array[:idx] if type == 1 else array[idx+1:]\n",
        "\n",
        "def convert_dict(array):  \n",
        "    init = iter(array)\n",
        "    res_dct = dict(zip(init, init))  \n",
        "    return res_dct\n",
        "\n",
        "def remove_words(array):\n",
        "  for word in array:\n",
        "    if word.replace(' ', '').isupper():\n",
        "      array.remove(word)\n",
        "  return array\n",
        "\n",
        "def separate_arrays(array):\n",
        "  titles = []\n",
        "  contents = []\n",
        "  aux_contents = []\n",
        "\n",
        "  count = 0\n",
        "\n",
        "  for elem in array:\n",
        "    if len(elem.split(' ')) <= 10:\n",
        "      titles.append(elem)\n",
        "      if count != 0:\n",
        "        contents.append(aux_contents)\n",
        "        aux_contents = []\n",
        "      count += 1\n",
        "    else:\n",
        "      aux_contents.append(elem)\n",
        "\n",
        "  return titles, contents"
      ],
      "execution_count": 27,
      "outputs": []
    },
    {
      "cell_type": "code",
      "metadata": {
        "id": "7gxyIXVq9sbs"
      },
      "source": [
        "def inspect_plant(link):\n",
        "  wd.get(link)\n",
        "  link = wd.find_element_by_xpath('/html/body/main/article/div[1]/div/div[2]/div[2]')\n",
        "\n",
        "  page_list = link.text.split('\\n')\n",
        "  remove_words(page_list)\n",
        "\n",
        "  table = link.find_element_by_tag_name('table')\n",
        "\n",
        "  # Get description\n",
        "  description = split_list(page_list, table.text.split('\\n')[0])\n",
        "  description = ''.join(description)\n",
        "\n",
        "  content = split_list(page_list, table.text.split('\\n')[-1], 2)\n",
        "\n",
        "  titles, contents = separate_arrays(content)\n",
        "\n",
        "  for (idx, title) in enumerate(titles):\n",
        "    titles[idx] = slugify(title)\n",
        "\n",
        "  for (idx, content) in enumerate(contents):\n",
        "    ' '.join(contents[idx])\n",
        "\n",
        "  if len(titles) > len(contents):\n",
        "    titles.pop()\n",
        "\n",
        "  zip_iterator = zip(titles, contents)\n",
        "  content_dict = dict(zip_iterator)\n",
        "\n",
        "  # Get table\n",
        "  table = table.find_elements_by_tag_name('td')\n",
        "  dict_table = []\n",
        "  for (idx, column) in enumerate(table):\n",
        "    text = column.text\n",
        "    if idx % 2 == 0:\n",
        "      text = slugify(text)\n",
        "    dict_table.append(text)\n",
        "  dict_table = convert_dict(dict_table)\n",
        "\n",
        "  return {'description': description, **dict_table, **content_dict}"
      ],
      "execution_count": 46,
      "outputs": []
    },
    {
      "cell_type": "code",
      "metadata": {
        "colab": {
          "base_uri": "https://localhost:8080/"
        },
        "id": "EFeCA5OsUyxy",
        "outputId": "4ee01aae-2fe9-4e08-ecc9-9395290a2664"
      },
      "source": [
        "res = []\n",
        "for link in links[:3]:\n",
        "  res.append(inspect_plant(link))\n",
        "\n",
        "df = pd.DataFrame(res)"
      ],
      "execution_count": 44,
      "outputs": [
        {
          "output_type": "stream",
          "text": [
            "[['The Acoma crape myrtle is a rewarding shrub or small tree to cultivate since it produces weeping branches with lush foliage and delicate blooms. While this variety requires abundant sun, it succeeds in a variety of soil conditions and has just basic needs for water or fertilizer.', \"Described as having a medium rate of growth, you’ll have plenty of time to watch these trees mature. Just don’t think you'll have much more to do than watch; the Acoma crepe myrtle requires only occasional pruning of its lower branches.\"], ['Full sun is necessary for crape myrtle to bloom to its full potential. These plants are known for their beautiful blooms, and to make the most of the flowering display, ensure that your crape myrtle receives at least six hours of sun each day.'], ['The crape myrtle is adaptable to varying soil conditions—including loam, clay, or sandy soils, as long as the ground is well-draining. When it comes to soil pH, these plants prefer slightly acidic to neutral pH levels, but they can grow in slightly alkaline soils as well.'], ['When first planted, the crape myrtle will need regular watering as it gets established. However, once mature, these plants have modest water needs and do well with about an inch of water per week.', 'They have proven to be relatively drought-resistant, but keep in mind that a lack of water during bloom season may result in a less showy display. If possible, supplement rainfall with regular watering if you experience an extended period of dry weather and you don’t want to see your flower production impacted.'], ['Like other crape myrtle varieties that thrive in the sun and heat, the Acoma crape myrtle does well even in hot climates, and it has a tolerance for humidity or drought.', 'On the other end of the spectrum, it is hardy in USDA zones 7 to 9, and can generally withstand temperatures down to about zero-degrees Fahrenheit successfully.'], ['For the best blooms, you may need to fertilize your crape myrtle. While these plants are adaptable to even low nutrient soil conditions, they do require sufficient nitrogen to support bloom production.', 'If you have soil that is lacking, then you might consider fertilizing your Acoma crape myrtle with a balanced formula—like an 8-8-8 or 10-10-10. The fertilizer can be applied at the start of the growing season and should be distributed immediately after rain or else watered sufficiently afterwards.', 'While the right amount of fertilizer can bring out the best in your crape myrtle, too much can have an adverse effect. Be cautious that you don’t supply too many nutrients—doing so can lead to foliage overgrowth and reduced blossoms.'], ['The most successful way of propagating Acoma crape myrtle is by cuttings. You can either use soft or hardwood cuttings, in addition to root cuttings.'], ['Use clean scissors or garden shears to remove hardwood or softwood cuttings. Hardwood cuttings should be about eight inches in length. Take hardwood cuttings once the tree has become dormant for the year, typically in the late fall. Softwood cuttings are obtained in the spring or summer and should be about six inches in length with several nodes.', 'Plant the cutting in a container with quality potting soil, leaving about one inch of the cutting above the soil line.', 'Maintain soil moisture and position the pot in a location that receives plenty of sun. Softwood cuttings should see new growth in about a month. Hardwood cuttings will grow more slowly, but won’t be ready for planting until summer anyway.', 'Once the cutting has taken root and is showing signs of new growth, it can be planted out. Be sure to water generously and position your new plant in a location with abundant light.'], ['If you’re concerned about your pets or other animals nibbling on your crape myrtle, you can rest assured that this tree will do them no harm. The Acoma crape myrtle is non-toxic, to both animals and humans.'], ['Keep your Acoma crape myrtle in good form with light pruning; this is best done in the spring before the lush foliage fills the branches.', 'Since this hybrid variety is known for having a petite form, it won’t need extensive pruning to retain its height, but you may want to clean up low branches on the tree to show off the attractive red-and-white smooth bark.', 'In addition, you can spur the tree on to increased branching by pinching off new growth, which will encourage your crape myrtle to grow fuller and bushier rather than taller. In addition, remove spent blossoms to support further flowering.'], ['While crepe myrtle trees are often subject to powdery mildew, one of the advantages of this hybrid variety is increased resistance to this fungus. However, Acoma trees are still subject to infestation by aphids. While this can produce a black mold, it isn’t overly threatening or damaging to the tree.']]\n",
            "[['In warmer climates, Aeoniums can be grown as in the ground as perennials, but it is also common to grow them as potted plants on decks or patios. In colder regions, they should be grown in containers and taken inside before frost. When grown in the garden, Aeoniums command the most attention when grouped in masses. Tall varieties can look like bonsai when they get shrubby; you can trim them if they get too leggy. The cuttings will readily root and make new plants, helping you fill out your planting area.', 'If you have the proper growing conditions, Aeoniums require very little pampering. Otherwise, your major task will be moving them from hot sun to shade and back again, watering, and moving them indoors when the temperature drops too low.', 'Aeoniums have shallow root systems since they store their water in their leaves and stems. Unlike other succulents, which prefer dry soil, Aeoniums prefer soil that is moist but not wet. They can produce roots along their stems, which you may notice if the plant gets pot bound or the stems fall and touch the soil. Make sure these roots do not dry out. The stem roots will quickly turn the fallen pieces into new plants. Leggy branches do tend to fall over and snap off from the weight of the rosettes. If this happens, you can re-plant the broken stem.', 'Keep an eye out for pests on Aeoniums. Slugs can do some damage, and aphids, mealybugs, and ants also enjoy Aeoniums. Treat the plant with a spray of water or mild insecticidal soap to remove these pests.'], ['As with most succulents, Aeonium plants grow best in full sun to part shade. In hot summers and desert conditions, light shade may be necessary. Indoors, give them bright indirect light.'], ['A sandy loam or regular potting mix amended with perlite is better than a mix specifically for succulents and cacti since Aeoniums need some moisture. If grown in garden beds with dense soil, it may be necessary to amend with peat moss to improve soil porosity.'], ['In the winter, water whenever the top inch of soil has dried out. Test by poking your finger down into the soil an inch or two. These plants do like more moisture than many other succulents, but too much moisture or allowing them to sit in wet soil will cause root rot.'], ['These plants prefer a Mediterranean climate—not too hot, not too cold, not too dry. Most Aeonium varieties are only hardy in USDA Zones 9 to 11. Growing Aeoniums in moist shade will keep them growing in high heat, but their true growth season is winter to spring, when temperatures are cool (65 to 75 degrees Fahrenheit) and damp. They may go dormant in summer and do not require excessive watering, except in excessively dry conditions. In extreme heat, their leaves will curl to prevent excessive water loss.'], ['Feed during the growing season with a half-strength balanced fertilizer every month or so. Do not feed while dormant.'], ['Aeonium arboreum: This widely available plant has bright green rosettes on a branching stem. It has a shrubby form and can grow as tall as 6 feet in the garden, or 3 feet in containers.', \"Aeonium arboreum 'Atropurpureum': This 3- to 5-foot tall cultivar has maroon leaves if grown in bright light.\", \"Aeonium arboreum 'Zwartkop': This cultivar has very dark, almost black leaves. It, too, is a fairly large plant.\", \"Aeonium 'Garnet': A hybrid cross of A. 'Zwarkop' and A. tabuliforme, this variety's leaves are green toward the middle and tipped with dark red. \", \"Aeonium davidbramwelli 'Sunburst': This variety is a shorter, 1- to 2-foot tall plant but has rosettes up to 1 foot across with pale yellow, white and green stripes, and pink tips.\", \"Aeonium haworthii 'Tricolor' or 'Kiwi': An easy growing 2- to 3-foot plant, it has 4-inch flowers that have pale yellow centers when young, maturing to red and green.\"], [], ['Needing so little soil, Aeoniums are great for growing in containers, where you can get a closer look at their unique features and have better control over their growing conditions. In high humidity or rainy areas, you may not need to water them at all. Choose a container with a drainage hole to avoid standing water and root rot. To help maintain the necessary moisture levels, use a regular potting mix rather than a fast-draining succulent/cactus mix.', 'If you are growing Aeoniums in containers, re-pot every 2 to 3 years with fresh potting soil.'], ['Like many succulents, Aeoniums are very easy to propagate from cuttings. Even stem pieces that fall off the plant may readily take root in the surrounding soil.', 'Cut off a stem piece containing a leaf rosette. Place the cutting in shade and allow the cut end to heal for about three days.', 'Fill a small pot with drainage holes with a mixture of half regular potting soil and half cactus/succulent potting mix. Place the severed end of the cutting into the potting mix, just deep enough to hold it upright. Place the pot in bright indirect light and water it lightly once each week.', 'Once the plant has developed strong roots, allow the top 2 inches of soil to dry out before watering. Re-pot into a larger container as needed.', \"Most Aeoniums are monocarpic, meaning that the mother plant dies after flowering. However, if the plant has produced side shoots, those side shoots will live on. If not, the entire plant will die off. That's why it is nice to start new plants from cuttings periodically. You can also start new plants from the seed.\"]]\n",
            "[['As is true of most tropical orchids, successfully growing Aerangis plants depends on maintaining a proper balance of the various elements on which they depend. They need a well-aerated environment, lots of sunlight, and lots of moisture in the air. Remember to feed them regularly, and if their blooms are insufficient you can always increase the fertilizer levels.', 'Aerangis plants are especially well-suited to grow vertically on a hard surface, so certainly consider mounting your plant if you grow one. These are fairly simple orchids that beginners should be able to grow with a little effort; just watch out for common orchid pests, like scale and aphids, that may prey on your plants. '], [], [\"These tropical orchids need lots of bright indirect light in order to thrive, but they don't care for direct sunlight. They prefer a bit more shade than other orchids, and the best environment will simulate the light of an open location location on a brightly overcast day.\"], ['A well-draining epiphyte mix is best, such as chopped sphagnum moss with styrofoam or wood chips. A standard orchid mix works well when growing these plants in hanging baskets. Good drainage is essential, as standing water will kill these plants.'], ['Aerangis orchids need a very moist environment, especially when grown epiphytically. Keep them well-watered at all times. A thorough misting every day is often required.'], [\"These plants require warm tropical temperatures above 50 degrees Fahrenheit. These plants are not frost-tolerant, and they don't react well to sudden changes in temperature. In native locations, many of these species grow at higher altitudes in tropical zones, so they don't necessarily need the deep heat of jungle bottomlands. Nighttime temps in the 50- to 60-degree range and daytime temps from 70 to 80 degrees Fahrenheit are ideal.\", 'These plants like humidity levels of at least 75 percent, so they will grow best in a greenhouse or terrarium environment. If grown in an open environment, plan on misting them every day with room-temperature water (not cold water).'], ['Feed regularly with a balanced, diluted fertilizer during the growing season in spring and summer. Their fertilizer can be scaled back during the dormant season in fall and winter.'], ['One relatively popular Aerangis is A. citrata, a variant from Madagascar with yellowish flowers. It’s from those flowers that it derives its name, which means “lemon-colored”.', 'Some other popular species include A. articulata, A. biloba, A. fastuosa, A. flabellifolia, A. mystacidii, and A. somasticta.', 'Also popular with collectors are the several hybrids, developed by crossing Aerangis with other orchid genera—the Aerangis genus hybridizes easily with Angraecum, Aeranthes, and several other orchid variants.'], ['Many people mount Aerangis plants on a sheer, vertical surface, like cork or hardwood. If you choose to grow your plants this way, repotting them won’t be necessary. However, they are often grown hanging baskets filled with a typical orchid mix that blends sphagnum moss and fine wood chips. In this case, it’s a good idea to change out the container once every few years. Lift the plant as a whole and try not to damage its root systems, which are fairly fragile.'], ['These epiphytes can be propagated by division. Cut away a large section from the stem and replant it in warm, moist conditions. Many gardeners cover new divisions with bags in order to seal in moisture, and you can also treat the cuttings with rooting hormone. Be patient: It can take a little while for tropical orchids to root in a new environment.'], ['Orchids can be temperamental plants, susceptible to many pests and diseases, which are more likely to occur when plants are in less-than-ideal cultural conditions.', 'Mites, mealybugs, and scale insects are common pests, best treated by dabbing them with a swab soaked in isopropyl alcohol.', 'Fungal or bacterial leaf spots often occur when the plant is too wet or too cold. Affected spots on leaves should be carefully cut away with a razor blade, with the cut edges of the leaves treated with a fungicide powder. These plants have sparse foliage, so this is usually not a difficult task. Viral infections can cause serious distortion of leaves, and affected plants will need to be destroyed.', 'Flower bud drop can be caused by too much or too little water, or temps that are too low or too high. Getting these conditions just right is the biggest challenge when growing orchids.']]\n"
          ],
          "name": "stdout"
        }
      ]
    },
    {
      "cell_type": "code",
      "metadata": {
        "id": "MxwramKYH1AH",
        "colab": {
          "base_uri": "https://localhost:8080/",
          "height": 562
        },
        "outputId": "3b4f77b6-5b97-4a2f-dd81-423c370d00ce"
      },
      "source": [
        "df"
      ],
      "execution_count": 45,
      "outputs": [
        {
          "output_type": "execute_result",
          "data": {
            "text/html": [
              "<div>\n",
              "<style scoped>\n",
              "    .dataframe tbody tr th:only-of-type {\n",
              "        vertical-align: middle;\n",
              "    }\n",
              "\n",
              "    .dataframe tbody tr th {\n",
              "        vertical-align: top;\n",
              "    }\n",
              "\n",
              "    .dataframe thead th {\n",
              "        text-align: right;\n",
              "    }\n",
              "</style>\n",
              "<table border=\"1\" class=\"dataframe\">\n",
              "  <thead>\n",
              "    <tr style=\"text-align: right;\">\n",
              "      <th></th>\n",
              "      <th>description</th>\n",
              "      <th>botanical-name</th>\n",
              "      <th>common-name</th>\n",
              "      <th>plant-type</th>\n",
              "      <th>mature-size</th>\n",
              "      <th>sun-exposure</th>\n",
              "      <th>soil-type</th>\n",
              "      <th>soil-ph</th>\n",
              "      <th>bloom-time</th>\n",
              "      <th>flower-color</th>\n",
              "      <th>hardiness-zones</th>\n",
              "      <th>native-area</th>\n",
              "      <th>how-to-grow-acoma-crape-myrtle</th>\n",
              "      <th>light</th>\n",
              "      <th>soil</th>\n",
              "      <th>water</th>\n",
              "      <th>temperature-and-humidity</th>\n",
              "      <th>fertilizer</th>\n",
              "      <th>propagating-acoma-crape-myrtle</th>\n",
              "      <th>follow-these-steps-to-propagate-with-cuttings</th>\n",
              "      <th>toxicity-of-acoma-crape-myrtle</th>\n",
              "      <th>pruning</th>\n",
              "      <th>common-pests</th>\n",
              "      <th>latin-name</th>\n",
              "      <th>common-names</th>\n",
              "      <th>toxicity</th>\n",
              "      <th>aeonium-care</th>\n",
              "      <th>aeonium-varieties</th>\n",
              "      <th>the-spruce-kara-riley</th>\n",
              "      <th>potting-and-repotting</th>\n",
              "      <th>propagating-aeoniums</th>\n",
              "      <th>aerangis-orchid-care</th>\n",
              "      <th>the-spruce-phoebe-cheong</th>\n",
              "      <th>aerangis-orchid-varieties</th>\n",
              "      <th>propagating-aerangis-orchids</th>\n",
              "      <th>common-pests-diseases</th>\n",
              "    </tr>\n",
              "  </thead>\n",
              "  <tbody>\n",
              "    <tr>\n",
              "      <th>0</th>\n",
              "      <td>The Acoma crape myrtle is a hybrid variety of ...</td>\n",
              "      <td>Lagerstroemia x ‘Acoma’</td>\n",
              "      <td>Acoma crape myrtle</td>\n",
              "      <td>Tree</td>\n",
              "      <td>2 to 10 feet tall and 2 to 10 feet wide</td>\n",
              "      <td>Full sun</td>\n",
              "      <td>Well-draining</td>\n",
              "      <td>Slightly acidic to neutral</td>\n",
              "      <td>Spring, summer</td>\n",
              "      <td>White</td>\n",
              "      <td>7 to 9</td>\n",
              "      <td>Asia, Australia</td>\n",
              "      <td>[The Acoma crape myrtle is a rewarding shrub o...</td>\n",
              "      <td>[Full sun is necessary for crape myrtle to blo...</td>\n",
              "      <td>[The crape myrtle is adaptable to varying soil...</td>\n",
              "      <td>[When first planted, the crape myrtle will nee...</td>\n",
              "      <td>[Like other crape myrtle varieties that thrive...</td>\n",
              "      <td>[For the best blooms, you may need to fertiliz...</td>\n",
              "      <td>[The most successful way of propagating Acoma ...</td>\n",
              "      <td>[Use clean scissors or garden shears to remove...</td>\n",
              "      <td>[If you’re concerned about your pets or other ...</td>\n",
              "      <td>[Keep your Acoma crape myrtle in good form wit...</td>\n",
              "      <td>[While crepe myrtle trees are often subject to...</td>\n",
              "      <td>NaN</td>\n",
              "      <td>NaN</td>\n",
              "      <td>NaN</td>\n",
              "      <td>NaN</td>\n",
              "      <td>NaN</td>\n",
              "      <td>NaN</td>\n",
              "      <td>NaN</td>\n",
              "      <td>NaN</td>\n",
              "      <td>NaN</td>\n",
              "      <td>NaN</td>\n",
              "      <td>NaN</td>\n",
              "      <td>NaN</td>\n",
              "      <td>NaN</td>\n",
              "    </tr>\n",
              "    <tr>\n",
              "      <th>1</th>\n",
              "      <td>Aeonium is a genus including about 35 succulen...</td>\n",
              "      <td>NaN</td>\n",
              "      <td>NaN</td>\n",
              "      <td>Perennial succulent</td>\n",
              "      <td>2–60 inches (depending on species and variety)</td>\n",
              "      <td>Full sun to part shade</td>\n",
              "      <td>Sandy loam</td>\n",
              "      <td>5.6–6.0 (slightly acidic)</td>\n",
              "      <td>Late winter or spring</td>\n",
              "      <td>Pink (flowering is rare, occurring only in mat...</td>\n",
              "      <td>9–11(USDA); often grown as potted plants broug...</td>\n",
              "      <td>Canary Islands, Africa</td>\n",
              "      <td>NaN</td>\n",
              "      <td>[As with most succulents, Aeonium plants grow ...</td>\n",
              "      <td>[A sandy loam or regular potting mix amended w...</td>\n",
              "      <td>[In the winter, water whenever the top inch of...</td>\n",
              "      <td>[These plants prefer a Mediterranean climate—n...</td>\n",
              "      <td>[Feed during the growing season with a half-st...</td>\n",
              "      <td>NaN</td>\n",
              "      <td>NaN</td>\n",
              "      <td>NaN</td>\n",
              "      <td>NaN</td>\n",
              "      <td>NaN</td>\n",
              "      <td>Aeonium spp.</td>\n",
              "      <td>Aeonium</td>\n",
              "      <td>Non-toxic</td>\n",
              "      <td>[In warmer climates, Aeoniums can be grown as ...</td>\n",
              "      <td>[Aeonium arboreum: This widely available plant...</td>\n",
              "      <td>[]</td>\n",
              "      <td>[Needing so little soil, Aeoniums are great fo...</td>\n",
              "      <td>[Like many succulents, Aeoniums are very easy ...</td>\n",
              "      <td>NaN</td>\n",
              "      <td>NaN</td>\n",
              "      <td>NaN</td>\n",
              "      <td>NaN</td>\n",
              "      <td>NaN</td>\n",
              "    </tr>\n",
              "    <tr>\n",
              "      <th>2</th>\n",
              "      <td>The Aerangis genus comprises many tropical orc...</td>\n",
              "      <td>Aerangis spp.</td>\n",
              "      <td>Aerangis orchids</td>\n",
              "      <td>Epiphytic orchids</td>\n",
              "      <td>6–24 inches (varies by species)</td>\n",
              "      <td>Part sun, bright filtered light</td>\n",
              "      <td>Orchid potting mix</td>\n",
              "      <td>5.5 to 6.0 (acidic)</td>\n",
              "      <td>Spring to fall (varies by species)</td>\n",
              "      <td>White, yellow</td>\n",
              "      <td>10–11 (USDA)</td>\n",
              "      <td>Tropical Africa, Madagascar</td>\n",
              "      <td>NaN</td>\n",
              "      <td>[These tropical orchids need lots of bright in...</td>\n",
              "      <td>[A well-draining epiphyte mix is best, such as...</td>\n",
              "      <td>[Aerangis orchids need a very moist environmen...</td>\n",
              "      <td>[These plants require warm tropical temperatur...</td>\n",
              "      <td>[Feed regularly with a balanced, diluted ferti...</td>\n",
              "      <td>NaN</td>\n",
              "      <td>NaN</td>\n",
              "      <td>NaN</td>\n",
              "      <td>NaN</td>\n",
              "      <td>NaN</td>\n",
              "      <td>NaN</td>\n",
              "      <td>NaN</td>\n",
              "      <td>Non-toxic</td>\n",
              "      <td>NaN</td>\n",
              "      <td>NaN</td>\n",
              "      <td>NaN</td>\n",
              "      <td>[Many people mount Aerangis plants on a sheer,...</td>\n",
              "      <td>NaN</td>\n",
              "      <td>[As is true of most tropical orchids, successf...</td>\n",
              "      <td>[]</td>\n",
              "      <td>[One relatively popular Aerangis is A. citrata...</td>\n",
              "      <td>[These epiphytes can be propagated by division...</td>\n",
              "      <td>[Orchids can be temperamental plants, suscepti...</td>\n",
              "    </tr>\n",
              "  </tbody>\n",
              "</table>\n",
              "</div>"
            ],
            "text/plain": [
              "                                         description  ...                              common-pests-diseases\n",
              "0  The Acoma crape myrtle is a hybrid variety of ...  ...                                                NaN\n",
              "1  Aeonium is a genus including about 35 succulen...  ...                                                NaN\n",
              "2  The Aerangis genus comprises many tropical orc...  ...  [Orchids can be temperamental plants, suscepti...\n",
              "\n",
              "[3 rows x 36 columns]"
            ]
          },
          "metadata": {
            "tags": []
          },
          "execution_count": 45
        }
      ]
    }
  ]
}