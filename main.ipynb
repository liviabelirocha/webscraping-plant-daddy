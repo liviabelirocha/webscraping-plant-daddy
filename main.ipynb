{
  "nbformat": 4,
  "nbformat_minor": 0,
  "metadata": {
    "colab": {
      "name": "Webscraping.ipynb",
      "provenance": [],
      "collapsed_sections": [],
      "authorship_tag": "ABX9TyN1gkeTpyKQ4fDgE0b6GqAv",
      "include_colab_link": true
    },
    "kernelspec": {
      "name": "python3",
      "display_name": "Python 3"
    },
    "language_info": {
      "name": "python"
    }
  },
  "cells": [
    {
      "cell_type": "markdown",
      "metadata": {
        "id": "view-in-github",
        "colab_type": "text"
      },
      "source": [
        "<a href=\"https://colab.research.google.com/github/liviabelirocha/webscraping-studies/blob/main/main.ipynb\" target=\"_parent\"><img src=\"https://colab.research.google.com/assets/colab-badge.svg\" alt=\"Open In Colab\"/></a>"
      ]
    },
    {
      "cell_type": "code",
      "metadata": {
        "id": "8N1eMMLq6HXP"
      },
      "source": [
        "!pip install selenium\n",
        "!pip install python-slugify\n",
        "!apt-get update\n",
        "!apt install chromium-chromedriver"
      ],
      "execution_count": null,
      "outputs": []
    },
    {
      "cell_type": "code",
      "metadata": {
        "id": "vaeN2nr_7UTE"
      },
      "source": [
        "from selenium import webdriver\n",
        "from slugify import slugify\n",
        "import pandas as pd"
      ],
      "execution_count": 2,
      "outputs": []
    },
    {
      "cell_type": "code",
      "metadata": {
        "id": "T6Q8le--7xvz"
      },
      "source": [
        "chrome_options = webdriver.ChromeOptions()\n",
        "chrome_options.add_argument('--headless')\n",
        "chrome_options.add_argument('--no-sandbox')\n",
        "chrome_options.add_argument('--disable-dev-shm-usage')\n",
        "wd = webdriver.Chrome('chromedriver', chrome_options=chrome_options)"
      ],
      "execution_count": null,
      "outputs": []
    },
    {
      "cell_type": "code",
      "metadata": {
        "id": "WGvUoXBw8Jjf"
      },
      "source": [
        "wd.get(\"https://www.thespruce.com/plants-a-to-z-5116344\")\n",
        "cards = wd.find_elements_by_class_name('alphabetical-card')"
      ],
      "execution_count": 4,
      "outputs": []
    },
    {
      "cell_type": "code",
      "metadata": {
        "id": "vmwGfElCBxOK"
      },
      "source": [
        "links = []\n",
        "for card in cards:\n",
        "  links.append(card.get_attribute('href'))\n",
        "del links[:8]"
      ],
      "execution_count": 7,
      "outputs": []
    },
    {
      "cell_type": "code",
      "metadata": {
        "id": "YZzSbMqoNpD0"
      },
      "source": [
        "def split_list(array, elem, type = 1):\n",
        "  for idx, el in enumerate(array):\n",
        "    if el == elem:\n",
        "      return array[:idx] if type == 1 else array[idx+1:]\n",
        "\n",
        "def convert_dict(array):  \n",
        "    init = iter(array)\n",
        "    res_dct = dict(zip(init, init))  \n",
        "    return res_dct\n",
        "\n",
        "def remove_words(array):\n",
        "  for word in array:\n",
        "    if word.replace(' ', '').isupper():\n",
        "      array.remove(word)\n",
        "  return array\n",
        "\n",
        "def separate_arrays(array):\n",
        "  titles = []\n",
        "  contents = []\n",
        "  aux_contents = []\n",
        "\n",
        "  count = 0\n",
        "\n",
        "  for elem in array:\n",
        "    if len(elem.split(' ')) <= 10:\n",
        "      titles.append(elem)\n",
        "      if count != 0:\n",
        "        contents.append(aux_contents)\n",
        "        aux_contents = []\n",
        "      count += 1\n",
        "    else:\n",
        "      aux_contents.append(elem)\n",
        "\n",
        "  return titles, contents"
      ],
      "execution_count": 27,
      "outputs": []
    },
    {
      "cell_type": "code",
      "metadata": {
        "id": "7gxyIXVq9sbs"
      },
      "source": [
        "def inspect_plant(link):\n",
        "  wd.get(link)\n",
        "  link = wd.find_element_by_xpath('/html/body/main/article/div[1]/div/div[2]/div[2]')\n",
        "\n",
        "  page_list = link.text.split('\\n')\n",
        "  remove_words(page_list)\n",
        "\n",
        "  table = link.find_element_by_tag_name('table')\n",
        "\n",
        "  # Get description\n",
        "  description = split_list(page_list, table.text.split('\\n')[0])\n",
        "  description = ''.join(description)\n",
        "\n",
        "  content = split_list(page_list, table.text.split('\\n')[-1], 2)\n",
        "\n",
        "  titles, contents = separate_arrays(content)\n",
        "\n",
        "  for (idx, title) in enumerate(titles):\n",
        "    titles[idx] = slugify(title)\n",
        "\n",
        "  for (idx, content) in enumerate(contents):\n",
        "    contents[idx] = ' '.join(content)\n",
        "\n",
        "  if len(titles) > len(contents):\n",
        "    titles.pop()\n",
        "\n",
        "  zip_iterator = zip(titles, contents)\n",
        "  content_dict = dict(zip_iterator)\n",
        "\n",
        "  # Get table\n",
        "  table = table.find_elements_by_tag_name('td')\n",
        "  dict_table = []\n",
        "  for (idx, column) in enumerate(table):\n",
        "    text = column.text\n",
        "    if idx % 2 == 0:\n",
        "      text = slugify(text)\n",
        "    dict_table.append(text)\n",
        "  dict_table = convert_dict(dict_table)\n",
        "\n",
        "  return {'description': description, **dict_table, **content_dict}"
      ],
      "execution_count": 47,
      "outputs": []
    },
    {
      "cell_type": "code",
      "metadata": {
        "id": "EFeCA5OsUyxy"
      },
      "source": [
        "res = []\n",
        "for link in links[:3]:\n",
        "  res.append(inspect_plant(link))\n",
        "\n",
        "df = pd.DataFrame(res)"
      ],
      "execution_count": 48,
      "outputs": []
    },
    {
      "cell_type": "code",
      "metadata": {
        "id": "MxwramKYH1AH",
        "colab": {
          "base_uri": "https://localhost:8080/",
          "height": 579
        },
        "outputId": "f802377e-4639-4a25-f09f-484fb7ea69cd"
      },
      "source": [
        "df"
      ],
      "execution_count": 49,
      "outputs": [
        {
          "output_type": "execute_result",
          "data": {
            "text/html": [
              "<div>\n",
              "<style scoped>\n",
              "    .dataframe tbody tr th:only-of-type {\n",
              "        vertical-align: middle;\n",
              "    }\n",
              "\n",
              "    .dataframe tbody tr th {\n",
              "        vertical-align: top;\n",
              "    }\n",
              "\n",
              "    .dataframe thead th {\n",
              "        text-align: right;\n",
              "    }\n",
              "</style>\n",
              "<table border=\"1\" class=\"dataframe\">\n",
              "  <thead>\n",
              "    <tr style=\"text-align: right;\">\n",
              "      <th></th>\n",
              "      <th>description</th>\n",
              "      <th>botanical-name</th>\n",
              "      <th>common-name</th>\n",
              "      <th>plant-type</th>\n",
              "      <th>mature-size</th>\n",
              "      <th>sun-exposure</th>\n",
              "      <th>soil-type</th>\n",
              "      <th>soil-ph</th>\n",
              "      <th>bloom-time</th>\n",
              "      <th>flower-color</th>\n",
              "      <th>hardiness-zones</th>\n",
              "      <th>native-area</th>\n",
              "      <th>how-to-grow-acoma-crape-myrtle</th>\n",
              "      <th>light</th>\n",
              "      <th>soil</th>\n",
              "      <th>water</th>\n",
              "      <th>temperature-and-humidity</th>\n",
              "      <th>fertilizer</th>\n",
              "      <th>propagating-acoma-crape-myrtle</th>\n",
              "      <th>follow-these-steps-to-propagate-with-cuttings</th>\n",
              "      <th>toxicity-of-acoma-crape-myrtle</th>\n",
              "      <th>pruning</th>\n",
              "      <th>common-pests</th>\n",
              "      <th>latin-name</th>\n",
              "      <th>common-names</th>\n",
              "      <th>toxicity</th>\n",
              "      <th>aeonium-care</th>\n",
              "      <th>aeonium-varieties</th>\n",
              "      <th>the-spruce-kara-riley</th>\n",
              "      <th>potting-and-repotting</th>\n",
              "      <th>propagating-aeoniums</th>\n",
              "      <th>aerangis-orchid-care</th>\n",
              "      <th>the-spruce-phoebe-cheong</th>\n",
              "      <th>aerangis-orchid-varieties</th>\n",
              "      <th>propagating-aerangis-orchids</th>\n",
              "      <th>common-pests-diseases</th>\n",
              "    </tr>\n",
              "  </thead>\n",
              "  <tbody>\n",
              "    <tr>\n",
              "      <th>0</th>\n",
              "      <td>The Acoma crape myrtle is a hybrid variety of ...</td>\n",
              "      <td>Lagerstroemia x ‘Acoma’</td>\n",
              "      <td>Acoma crape myrtle</td>\n",
              "      <td>Tree</td>\n",
              "      <td>2 to 10 feet tall and 2 to 10 feet wide</td>\n",
              "      <td>Full sun</td>\n",
              "      <td>Well-draining</td>\n",
              "      <td>Slightly acidic to neutral</td>\n",
              "      <td>Spring, summer</td>\n",
              "      <td>White</td>\n",
              "      <td>7 to 9</td>\n",
              "      <td>Asia, Australia</td>\n",
              "      <td>The Acoma crape myrtle is a rewarding shrub or...</td>\n",
              "      <td>Full sun is necessary for crape myrtle to bloo...</td>\n",
              "      <td>The crape myrtle is adaptable to varying soil ...</td>\n",
              "      <td>When first planted, the crape myrtle will need...</td>\n",
              "      <td>Like other crape myrtle varieties that thrive ...</td>\n",
              "      <td>For the best blooms, you may need to fertilize...</td>\n",
              "      <td>The most successful way of propagating Acoma c...</td>\n",
              "      <td>Use clean scissors or garden shears to remove ...</td>\n",
              "      <td>If you’re concerned about your pets or other a...</td>\n",
              "      <td>Keep your Acoma crape myrtle in good form with...</td>\n",
              "      <td>While crepe myrtle trees are often subject to ...</td>\n",
              "      <td>NaN</td>\n",
              "      <td>NaN</td>\n",
              "      <td>NaN</td>\n",
              "      <td>NaN</td>\n",
              "      <td>NaN</td>\n",
              "      <td>NaN</td>\n",
              "      <td>NaN</td>\n",
              "      <td>NaN</td>\n",
              "      <td>NaN</td>\n",
              "      <td>NaN</td>\n",
              "      <td>NaN</td>\n",
              "      <td>NaN</td>\n",
              "      <td>NaN</td>\n",
              "    </tr>\n",
              "    <tr>\n",
              "      <th>1</th>\n",
              "      <td>Aeonium is a genus including about 35 succulen...</td>\n",
              "      <td>NaN</td>\n",
              "      <td>NaN</td>\n",
              "      <td>Perennial succulent</td>\n",
              "      <td>2–60 inches (depending on species and variety)</td>\n",
              "      <td>Full sun to part shade</td>\n",
              "      <td>Sandy loam</td>\n",
              "      <td>5.6–6.0 (slightly acidic)</td>\n",
              "      <td>Late winter or spring</td>\n",
              "      <td>Pink (flowering is rare, occurring only in mat...</td>\n",
              "      <td>9–11(USDA); often grown as potted plants broug...</td>\n",
              "      <td>Canary Islands, Africa</td>\n",
              "      <td>NaN</td>\n",
              "      <td>As with most succulents, Aeonium plants grow b...</td>\n",
              "      <td>A sandy loam or regular potting mix amended wi...</td>\n",
              "      <td>In the winter, water whenever the top inch of ...</td>\n",
              "      <td>These plants prefer a Mediterranean climate—no...</td>\n",
              "      <td>Feed during the growing season with a half-str...</td>\n",
              "      <td>NaN</td>\n",
              "      <td>NaN</td>\n",
              "      <td>NaN</td>\n",
              "      <td>NaN</td>\n",
              "      <td>NaN</td>\n",
              "      <td>Aeonium spp.</td>\n",
              "      <td>Aeonium</td>\n",
              "      <td>Non-toxic</td>\n",
              "      <td>In warmer climates, Aeoniums can be grown as i...</td>\n",
              "      <td>Aeonium arboreum: This widely available plant ...</td>\n",
              "      <td></td>\n",
              "      <td>Needing so little soil, Aeoniums are great for...</td>\n",
              "      <td>Like many succulents, Aeoniums are very easy t...</td>\n",
              "      <td>NaN</td>\n",
              "      <td>NaN</td>\n",
              "      <td>NaN</td>\n",
              "      <td>NaN</td>\n",
              "      <td>NaN</td>\n",
              "    </tr>\n",
              "    <tr>\n",
              "      <th>2</th>\n",
              "      <td>The Aerangis genus comprises many tropical orc...</td>\n",
              "      <td>Aerangis spp.</td>\n",
              "      <td>Aerangis orchids</td>\n",
              "      <td>Epiphytic orchids</td>\n",
              "      <td>6–24 inches (varies by species)</td>\n",
              "      <td>Part sun, bright filtered light</td>\n",
              "      <td>Orchid potting mix</td>\n",
              "      <td>5.5 to 6.0 (acidic)</td>\n",
              "      <td>Spring to fall (varies by species)</td>\n",
              "      <td>White, yellow</td>\n",
              "      <td>10–11 (USDA)</td>\n",
              "      <td>Tropical Africa, Madagascar</td>\n",
              "      <td>NaN</td>\n",
              "      <td>These tropical orchids need lots of bright ind...</td>\n",
              "      <td>A well-draining epiphyte mix is best, such as ...</td>\n",
              "      <td>Aerangis orchids need a very moist environment...</td>\n",
              "      <td>These plants require warm tropical temperature...</td>\n",
              "      <td>Feed regularly with a balanced, diluted fertil...</td>\n",
              "      <td>NaN</td>\n",
              "      <td>NaN</td>\n",
              "      <td>NaN</td>\n",
              "      <td>NaN</td>\n",
              "      <td>NaN</td>\n",
              "      <td>NaN</td>\n",
              "      <td>NaN</td>\n",
              "      <td>Non-toxic</td>\n",
              "      <td>NaN</td>\n",
              "      <td>NaN</td>\n",
              "      <td>NaN</td>\n",
              "      <td>Many people mount Aerangis plants on a sheer, ...</td>\n",
              "      <td>NaN</td>\n",
              "      <td>As is true of most tropical orchids, successfu...</td>\n",
              "      <td></td>\n",
              "      <td>One relatively popular Aerangis is A. citrata,...</td>\n",
              "      <td>These epiphytes can be propagated by division....</td>\n",
              "      <td>Orchids can be temperamental plants, susceptib...</td>\n",
              "    </tr>\n",
              "  </tbody>\n",
              "</table>\n",
              "</div>"
            ],
            "text/plain": [
              "                                         description  ...                              common-pests-diseases\n",
              "0  The Acoma crape myrtle is a hybrid variety of ...  ...                                                NaN\n",
              "1  Aeonium is a genus including about 35 succulen...  ...                                                NaN\n",
              "2  The Aerangis genus comprises many tropical orc...  ...  Orchids can be temperamental plants, susceptib...\n",
              "\n",
              "[3 rows x 36 columns]"
            ]
          },
          "metadata": {
            "tags": []
          },
          "execution_count": 49
        }
      ]
    }
  ]
}